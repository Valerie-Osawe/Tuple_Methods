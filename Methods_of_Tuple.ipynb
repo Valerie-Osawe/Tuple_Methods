{
  "nbformat": 4,
  "nbformat_minor": 0,
  "metadata": {
    "colab": {
      "provenance": []
    },
    "kernelspec": {
      "name": "python3",
      "display_name": "Python 3"
    },
    "language_info": {
      "name": "python"
    }
  },
  "cells": [
    {
      "cell_type": "markdown",
      "source": [
        "##**Performing Five Methods of Tuple**\n"
      ],
      "metadata": {
        "id": "Ccatl6l9PdJe"
      }
    },
    {
      "cell_type": "code",
      "source": [
        "#Creating a variable for a tuple\n",
        "mytuple = ('monday', 'tuesday', 'wednesday', 'monday', 'friday', 'sunday', 'friday')\n",
        "print(mytuple)"
      ],
      "metadata": {
        "colab": {
          "base_uri": "https://localhost:8080/"
        },
        "id": "ECNXJ0eXQFSH",
        "outputId": "c91f0d8d-f7b0-4fb5-f86e-13e44f137dfc"
      },
      "execution_count": 11,
      "outputs": [
        {
          "output_type": "stream",
          "name": "stdout",
          "text": [
            "('monday', 'tuesday', 'wednesday', 'monday', 'friday', 'sunday', 'friday')\n"
          ]
        }
      ]
    },
    {
      "cell_type": "markdown",
      "source": [
        "###1. Count() Method\n",
        "This will count and return the number of times a value or element exists in a tuple"
      ],
      "metadata": {
        "id": "zrLhTld9P7em"
      }
    },
    {
      "cell_type": "code",
      "execution_count": 12,
      "metadata": {
        "colab": {
          "base_uri": "https://localhost:8080/"
        },
        "id": "wPcS1Gv0O_Xj",
        "outputId": "8221efe6-e294-4dcc-cd78-509ce0e5b833"
      },
      "outputs": [
        {
          "output_type": "stream",
          "name": "stdout",
          "text": [
            "2\n"
          ]
        }
      ],
      "source": [
        "count_m = mytuple.count('friday')\n",
        "print(count_m)"
      ]
    },
    {
      "cell_type": "markdown",
      "source": [
        "###2. Index() Method\n",
        "This will return the first index position of a value/element in the tuple\n"
      ],
      "metadata": {
        "id": "79L-MQuoP3XS"
      }
    },
    {
      "cell_type": "code",
      "source": [
        "index_m = mytuple.index('monday')\n",
        "print(index_m)"
      ],
      "metadata": {
        "colab": {
          "base_uri": "https://localhost:8080/"
        },
        "id": "unMV5cXeSBvX",
        "outputId": "4b61d17c-7cea-418b-f041-75cca477f41e"
      },
      "execution_count": 13,
      "outputs": [
        {
          "output_type": "stream",
          "name": "stdout",
          "text": [
            "0\n"
          ]
        }
      ]
    },
    {
      "cell_type": "markdown",
      "source": [
        "###3. Len() method\n",
        "This will retuen the number of elements in the tuple"
      ],
      "metadata": {
        "id": "aKfl7UNBS2Lm"
      }
    },
    {
      "cell_type": "code",
      "source": [
        "len_m = len(mytuple)\n",
        "print(len_m)\n"
      ],
      "metadata": {
        "colab": {
          "base_uri": "https://localhost:8080/"
        },
        "id": "qYebdiTSS2-Y",
        "outputId": "850902f2-1d3d-4a0d-a7e9-a5ff11ce2535"
      },
      "execution_count": 14,
      "outputs": [
        {
          "output_type": "stream",
          "name": "stdout",
          "text": [
            "7\n"
          ]
        }
      ]
    },
    {
      "cell_type": "markdown",
      "source": [
        "###4. Max() Method\n",
        "This will return the word with the most letters, as the datatype in the tuple is string."
      ],
      "metadata": {
        "id": "hcTmnI7WTsbQ"
      }
    },
    {
      "cell_type": "code",
      "source": [
        "max_m = max(mytuple)\n",
        "print(max_m)"
      ],
      "metadata": {
        "colab": {
          "base_uri": "https://localhost:8080/"
        },
        "id": "gyYCbiECTuj8",
        "outputId": "971592fb-50fe-4252-ff97-1f44cc46f899"
      },
      "execution_count": 15,
      "outputs": [
        {
          "output_type": "stream",
          "name": "stdout",
          "text": [
            "wednesday\n"
          ]
        }
      ]
    },
    {
      "cell_type": "markdown",
      "source": [
        "###5. Min() Method\n",
        "This will return the word with the least letters, as the datatype in the tuple is string."
      ],
      "metadata": {
        "id": "9QRpsET3Ure9"
      }
    },
    {
      "cell_type": "code",
      "source": [
        "min_m = min(mytuple)\n",
        "print(min_m)"
      ],
      "metadata": {
        "colab": {
          "base_uri": "https://localhost:8080/"
        },
        "id": "miPTJMqxUr7s",
        "outputId": "424677b8-558f-42d8-8217-c7512610bddd"
      },
      "execution_count": 16,
      "outputs": [
        {
          "output_type": "stream",
          "name": "stdout",
          "text": [
            "friday\n"
          ]
        }
      ]
    }
  ]
}